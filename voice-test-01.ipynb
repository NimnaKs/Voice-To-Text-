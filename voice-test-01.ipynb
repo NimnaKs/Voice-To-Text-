{
 "cells": [
  {
   "cell_type": "code",
   "execution_count": 11,
   "id": "24a8b266",
   "metadata": {},
   "outputs": [
    {
     "name": "stdout",
     "output_type": "stream",
     "text": [
      "Please say something:\n",
      "You said: hello world how are you\n"
     ]
    }
   ],
   "source": [
    "import speech_recognition as sr\n",
    "\n",
    "recognizer = sr.Recognizer()\n",
    "\n",
    "with sr.Microphone() as source:\n",
    "    print(\"Please say something:\")\n",
    "    audio = recognizer.listen(source)\n",
    "\n",
    "text = recognizer.recognize_google(audio, language=\"en-US\")\n",
    "print(\"You said:\", text)"
   ]
  },
  {
   "cell_type": "code",
   "execution_count": 15,
   "id": "c33ddaec",
   "metadata": {},
   "outputs": [
    {
     "name": "stdout",
     "output_type": "stream",
     "text": [
      "Adjusting for ambient noise…\n",
      "සිංහලෙන් කීවා යුතුයි, කරුණාකර කතා කරන්න:\n",
      "කිවීම නොද තේරුණේ නැත\n"
     ]
    }
   ],
   "source": [
    "import speech_recognition as sr\n",
    "\n",
    "recognizer = sr.Recognizer()\n",
    "\n",
    "with sr.Microphone() as source:\n",
    "    # optional: help it adapt to background noise\n",
    "    print(\"Adjusting for ambient noise…\")\n",
    "    recognizer.adjust_for_ambient_noise(source, duration=1)\n",
    "\n",
    "    print(\"සිංහලෙන් කීවා යුතුයි, කරුණාකර කතා කරන්න:\")\n",
    "    audio = recognizer.listen(source)\n",
    "\n",
    "try:\n",
    "    # set language to Sinhala (Sri Lanka)\n",
    "    text = recognizer.recognize_google(audio, language=\"si-LK\")\n",
    "    print(\"ඔබ කීය:\", text)\n",
    "except sr.UnknownValueError:\n",
    "    print(\"කිවීම නොද තේරුණේ නැත\")\n",
    "except sr.RequestError as e:\n",
    "    print(f\"API අසාර්ථකව ගොනු කළේ: {e}\")\n"
   ]
  }
 ],
 "metadata": {
  "kernelspec": {
   "display_name": "Python 3",
   "language": "python",
   "name": "python3"
  },
  "language_info": {
   "codemirror_mode": {
    "name": "ipython",
    "version": 3
   },
   "file_extension": ".py",
   "mimetype": "text/x-python",
   "name": "python",
   "nbconvert_exporter": "python",
   "pygments_lexer": "ipython3",
   "version": "3.12.6"
  }
 },
 "nbformat": 4,
 "nbformat_minor": 5
}
